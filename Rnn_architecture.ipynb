{
  "nbformat": 4,
  "nbformat_minor": 0,
  "metadata": {
    "colab": {
      "provenance": [],
      "authorship_tag": "ABX9TyOCvC8apfsve/x/XbFtNL6w",
      "include_colab_link": true
    },
    "kernelspec": {
      "name": "python3",
      "display_name": "Python 3"
    },
    "language_info": {
      "name": "python"
    }
  },
  "cells": [
    {
      "cell_type": "markdown",
      "metadata": {
        "id": "view-in-github",
        "colab_type": "text"
      },
      "source": [
        "<a href=\"https://colab.research.google.com/github/Rupesh-132/DeepLearning/blob/main/Rnn_architecture.ipynb\" target=\"_parent\"><img src=\"https://colab.research.google.com/assets/colab-badge.svg\" alt=\"Open In Colab\"/></a>"
      ]
    },
    {
      "cell_type": "code",
      "source": [
        "from keras import Sequential\n",
        "from keras.layers import Dense, SimpleRNN"
      ],
      "metadata": {
        "id": "0DIWfTzt_N6n"
      },
      "execution_count": 1,
      "outputs": []
    },
    {
      "cell_type": "code",
      "source": [
        "model = Sequential()\n",
        "model.add(SimpleRNN(3,input_shape=(4,5)))\n",
        "model.add(Dense(1,activation='sigmoid'))\n",
        "model.summary()"
      ],
      "metadata": {
        "colab": {
          "base_uri": "https://localhost:8080/"
        },
        "id": "zywejOzD_YpM",
        "outputId": "b1b542e0-4b9c-4936-cb2e-9fda834a345b"
      },
      "execution_count": 2,
      "outputs": [
        {
          "output_type": "stream",
          "name": "stdout",
          "text": [
            "Model: \"sequential\"\n",
            "_________________________________________________________________\n",
            " Layer (type)                Output Shape              Param #   \n",
            "=================================================================\n",
            " simple_rnn (SimpleRNN)      (None, 3)                 27        \n",
            "                                                                 \n",
            " dense (Dense)               (None, 1)                 4         \n",
            "                                                                 \n",
            "=================================================================\n",
            "Total params: 31 (124.00 Byte)\n",
            "Trainable params: 31 (124.00 Byte)\n",
            "Non-trainable params: 0 (0.00 Byte)\n",
            "_________________________________________________________________\n"
          ]
        }
      ]
    },
    {
      "cell_type": "code",
      "source": [
        "history = model.history"
      ],
      "metadata": {
        "id": "GMCljFkH_-4I"
      },
      "execution_count": 7,
      "outputs": []
    },
    {
      "cell_type": "code",
      "source": [
        "print(model.get_weights()[0].shape)\n",
        "model.get_weights()[0]"
      ],
      "metadata": {
        "colab": {
          "base_uri": "https://localhost:8080/"
        },
        "id": "x4Xw-DfHAFbW",
        "outputId": "b8da4ecb-fd05-4842-b178-b96e31892cc6"
      },
      "execution_count": 9,
      "outputs": [
        {
          "output_type": "stream",
          "name": "stdout",
          "text": [
            "(5, 3)\n"
          ]
        },
        {
          "output_type": "execute_result",
          "data": {
            "text/plain": [
              "array([[ 0.20090562, -0.04428881,  0.6171498 ],\n",
              "       [ 0.6990363 , -0.34432894, -0.2549969 ],\n",
              "       [ 0.6021063 , -0.39141014,  0.15624863],\n",
              "       [ 0.5468227 , -0.5772613 ,  0.7519551 ],\n",
              "       [-0.7173538 ,  0.15409917,  0.433744  ]], dtype=float32)"
            ]
          },
          "metadata": {},
          "execution_count": 9
        }
      ]
    },
    {
      "cell_type": "code",
      "source": [
        "model.get_weights()"
      ],
      "metadata": {
        "colab": {
          "base_uri": "https://localhost:8080/"
        },
        "id": "hlwPuHQ-AIfR",
        "outputId": "7acae54c-7ad7-4fed-90af-bf52c08f83d5"
      },
      "execution_count": 8,
      "outputs": [
        {
          "output_type": "execute_result",
          "data": {
            "text/plain": [
              "[array([[ 0.20090562, -0.04428881,  0.6171498 ],\n",
              "        [ 0.6990363 , -0.34432894, -0.2549969 ],\n",
              "        [ 0.6021063 , -0.39141014,  0.15624863],\n",
              "        [ 0.5468227 , -0.5772613 ,  0.7519551 ],\n",
              "        [-0.7173538 ,  0.15409917,  0.433744  ]], dtype=float32),\n",
              " array([[-0.17197073,  0.2931336 ,  0.94047797],\n",
              "        [-0.5251123 , -0.8350327 ,  0.1642485 ],\n",
              "        [ 0.83347654, -0.46561062,  0.29752916]], dtype=float32),\n",
              " array([0., 0., 0.], dtype=float32),\n",
              " array([[-0.15473771],\n",
              "        [-0.42767274],\n",
              "        [ 1.1003534 ]], dtype=float32),\n",
              " array([0.], dtype=float32)]"
            ]
          },
          "metadata": {},
          "execution_count": 8
        }
      ]
    },
    {
      "cell_type": "code",
      "source": [],
      "metadata": {
        "id": "tyuPjo1YAZzr"
      },
      "execution_count": null,
      "outputs": []
    }
  ]
}